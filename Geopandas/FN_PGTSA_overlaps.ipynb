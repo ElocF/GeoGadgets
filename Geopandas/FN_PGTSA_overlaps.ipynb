{
 "cells": [
  {
   "cell_type": "code",
   "execution_count": null,
   "metadata": {},
   "outputs": [],
   "source": [
    "# +-------------------------------------------------------------------------------------------------\n",
    "# Author:cfolkers\n",
    "# Ministry, Division, Branch: WLRS, GEOBC, Geospatial Services \n",
    "# Created Date: 2024/07/04\n",
    "# Updated Date: \n",
    "# Description: quick script to summarize First Nations overlaps with the PG TSA and tsa overlap with FN\n",
    "# +-------------------------------------------------------------------------------------------------"
   ]
  },
  {
   "cell_type": "code",
   "execution_count": 41,
   "metadata": {},
   "outputs": [],
   "source": [
    "#load up \n",
    "import logging\n",
    "import geopandas as gpd\n",
    "import pandas as pd \n",
    "pd.options.display.float_format = '{:.6f}'.format\n",
    "from bcgw2gdf import bcgw2gdf\n",
    "import xlsxwriter\n",
    "bcgw2gdf=bcgw2gdf()"
   ]
  },
  {
   "cell_type": "code",
   "execution_count": 42,
   "metadata": {},
   "outputs": [],
   "source": [
    "#set up logging \n",
    "logging.basicConfig(level=logging.DEBUG)\n",
    "debug=logging.debug\n",
    "info=logging.info\n",
    "warning=logging.warning\n",
    "error=logging.error"
   ]
  },
  {
   "cell_type": "code",
   "execution_count": null,
   "metadata": {},
   "outputs": [],
   "source": [
    "#connect to BCGW from bcgw2gdf\n",
    "bcgw2gdf.bcgw_connect()"
   ]
  },
  {
   "cell_type": "code",
   "execution_count": 118,
   "metadata": {},
   "outputs": [],
   "source": [
    "#define queries for data \n",
    "pip_q =\"\"\"select * from WHSE_ADMIN_BOUNDARIES.PIP_CONSULTATION_AREAS_SP\"\"\"\n",
    "tsa_q =\"\"\" select * from WHSE_ADMIN_BOUNDARIES.FADM_TSA where TSB_NUMBER IS NULL And RETIREMENT_DATE IS NULL And TSA_NUMBER_DESCRIPTION = 'Prince George TSA' \"\"\"\n",
    "WMFN_q =\"\"\"SELECT * FROM WHSE_ADMIN_BOUNDARIES.PIP_CONSULTATION_AREAS_SP where CNSLTN_AREA_LABEL IN (160,266) \"\"\"\n",
    "csfn_path=r'Spatial/CarrierSekani_TribalCouncil_Boundary.shp'"
   ]
  },
  {
   "cell_type": "code",
   "execution_count": null,
   "metadata": {},
   "outputs": [],
   "source": [
    "#execute queries and load tables \n",
    "pip_in = bcgw2gdf.get_spatial_table(pip_q)\n",
    "pg_tsa=bcgw2gdf.get_spatial_table(tsa_q)\n",
    "WMFN=bcgw2gdf.get_spatial_table(WMFN_q)\n",
    "CSFN=gpd.read_file('CSTC_FirstNations_Boundary.shp')"
   ]
  },
  {
   "cell_type": "code",
   "execution_count": null,
   "metadata": {},
   "outputs": [],
   "source": [
    "#for offline use save files \n",
    "\n",
    "# pip_in.to_file('pip.gpkg', driver='GPKG', layer='pip')\n",
    "# pg_tsa.to_file('pg_tsa.gpkg',driver='GPKG', layer='pg_tsa')\n",
    "# WMFN.to_file('WMFN.gpkg',driver='GPKG', layer='WMFN')\n"
   ]
  },
  {
   "cell_type": "code",
   "execution_count": null,
   "metadata": {},
   "outputs": [],
   "source": [
    "#if using local data read files using gpd \n",
    "\n",
    "# pip_in=gpd.read_file('pip.gpkg', layer='pip')\n",
    "# pg_tsa=gpd.read_file('pg_tsa.gpkg', layer='pg_tsa')\n",
    "# WMFN=gpd.read_file('WMFN.gpkg', layer='WMFN')\n",
    "# CSFN=gpd.read_file('CSTC_FirstNations_Boundary.shp')"
   ]
  },
  {
   "cell_type": "code",
   "execution_count": null,
   "metadata": {},
   "outputs": [],
   "source": [
    "#update CSFN cols and geom\n",
    "CSFN['CNSLTN_AREA_NAME']='Carrier Sekani Tribal Council'\n",
    "CSFN['OBJECTID_left']=123456789\n",
    "CSFN.to_wkt()\n",
    "CSFN.rename(columns={'Name':'CNSLTN_AREA_NAME', 'geometry':'wkt'}, inplace=True)\n",
    "CSFN.set_geometry('wkt')\n",
    "\n",
    "#merge WMFN and CSFN\n",
    "joined=pd.concat([WMFN, CSFN], ignore_index=False)\n",
    "joined.set_geometry('wkt', inplace=True)\n",
    "joined=joined.dissolve()\n",
    "\n",
    "#check to see data merged properly, \n",
    "ax=joined.plot(color='pink')\n",
    "# CSFN.plot(ax=ax, color='yellow')\n",
    "WMFN.plot(ax=ax, color='green')"
   ]
  },
  {
   "cell_type": "code",
   "execution_count": 193,
   "metadata": {},
   "outputs": [],
   "source": [
    "#need to add CSFN to pip table \n",
    "\n",
    "#line below needed if using local data\n",
    "# CSFN.rename(columns={'wkt':'geometry'}, inplace=True)\n",
    "\n",
    "#use sjoin to return subset of pip_in with only boundaries that intersect with TSA\n",
    "subset_pip= gpd.sjoin(pip_in, pg_tsa, how='inner', predicate='intersects')\n",
    "\n",
    "subset_pip=pd.concat([subset_pip, CSFN], ignore_index=False)\n",
    "\n",
    "#calculate new area and ha \n",
    "subset_pip['area']=subset_pip.area\n",
    "subset_pip['Total Area of PIP Boundary (ha)']=subset_pip['area']/10000\n",
    "\n",
    "#create list of columns to keep and use difference to drop those not in list \n",
    "pip_cols=['CNSLTN_AREA_NAME','Total Area of PIP Boundary (ha)','OBJECTID_left', 'wkt']\n",
    "subset_pip.drop(subset_pip.columns.difference(pip_cols), axis= 1, inplace= True)"
   ]
  },
  {
   "cell_type": "code",
   "execution_count": null,
   "metadata": {},
   "outputs": [],
   "source": [
    "#inspect data for only chosen columns \n",
    "# subset_pip[['CNSLTN_AREA_NAME','Total Area of PIP Boundary (ha)','OBJECTID_left']]\n",
    "print(subset_pip.columns)"
   ]
  },
  {
   "cell_type": "code",
   "execution_count": null,
   "metadata": {},
   "outputs": [],
   "source": [
    "#clip PIP boundaries to TSA\n",
    "pip_clip=gpd.clip(subset_pip, pg_tsa,keep_geom_type=False)\n",
    "print(pip_clip.columns)\n",
    "#check to make sure features still match if\n",
    "if len(pip_clip) == len(subset_pip):\n",
    "    info(f\"Features match: {len(subset_pip)}:{len(pip_clip)}\")\n",
    "    #calculate ha\n",
    "    pip_clip['area']=pip_clip.area\n",
    "    pip_clip['Area of PIP Boundary Overlapping PG TSA (ha)']=pip_clip['area']/10000\n",
    "    # print(pip_clip.columns)\n",
    "    #drop columns\n",
    "    pip_cols=['Area of PIP Boundary Overlapping PG TSA (ha)','OBJECTID_left', 'wkt']\n",
    "    pip_clip.drop(pip_clip.columns.difference(pip_cols), axis= 1, inplace= True)\n",
    "    # print(pip_clip.columns)\n",
    "else:\n",
    "     warning('features do not match! check your work!')"
   ]
  },
  {
   "cell_type": "code",
   "execution_count": null,
   "metadata": {},
   "outputs": [],
   "source": [
    "print(subset_pip.columns)\n",
    "print(pip_clip.columns)\n",
    "pip_clip"
   ]
  },
  {
   "cell_type": "code",
   "execution_count": null,
   "metadata": {},
   "outputs": [],
   "source": [
    "#from the sjoin above it added both objectid columns for the left and right gdf, rename left objectid\n",
    "# subset_pip.rename(columns={'OBJECTID_left':'OBJECTID'}, inplace=True)\n",
    "\n",
    "#join gdfs on objectid returned from bcgw\n",
    "pip_out=pd.merge(subset_pip,pip_clip, on='OBJECTID_left', how='outer')\n",
    "pip_out.drop(columns='wkt_x', inplace=True)\n",
    "\n",
    "#check number of rows\n",
    "debug(f\"{len(pip_out)} features after join\")"
   ]
  },
  {
   "cell_type": "code",
   "execution_count": null,
   "metadata": {},
   "outputs": [],
   "source": [
    "pip_out"
   ]
  },
  {
   "cell_type": "code",
   "execution_count": null,
   "metadata": {},
   "outputs": [],
   "source": [
    "pip_out.rename(columns={'OBJECTID_left':'OBJECTID','wkt_y':'wkt' }, inplace=True)\n",
    "pip_out=pip_out.set_geometry('wkt')\n",
    "pip_out.columns"
   ]
  },
  {
   "cell_type": "code",
   "execution_count": 199,
   "metadata": {},
   "outputs": [
    {
     "name": "stderr",
     "output_type": "stream",
     "text": [
      "DEBUG:root:57 features after clipping\n"
     ]
    }
   ],
   "source": [
    "# redundant but good to check work with new tools\n",
    "\n",
    "tsa_clipped=[]\n",
    "#loop through PIP boundaries and clip the TSA to any that apply\n",
    "for idx, boundary in pip_in.iterrows():\n",
    "    clipped_gdf = gpd.clip(pg_tsa, boundary.wkt)\n",
    "    #add new attributes from PIP layers to TSA layer\n",
    "    # clipped_gdf['CNSLTN_AREA_NAME'] = boundary['CNSLTN_AREA_NAME']\n",
    "    clipped_gdf['OBJECTID'] = boundary['OBJECTID']\n",
    "    #append clipped gdf to list\n",
    "    tsa_clipped.append(clipped_gdf)\n",
    "    \n",
    "#combine list of gdfs into one     \n",
    "result_gdf = gpd.GeoDataFrame(pd.concat(tsa_clipped, ignore_index=True))\n",
    "\n",
    "#drop cols that do not exist in list \n",
    "result_cols=['Area of TSA in PIP Boundary','CNSLTN_AREA_NAME','wkt','OBJECTID']\n",
    "result_gdf.drop(result_gdf.columns.difference(result_cols), axis= 1, inplace= True)\n",
    "\n",
    "#calculate ha\n",
    "result_gdf['area']=result_gdf.area\n",
    "result_gdf['Area of TSA in PIP Boundary(ha)']=result_gdf['area']/10000\n",
    "\n",
    "#check number of rows\n",
    "debug(f\"{len(result_gdf)} features after clipping\")"
   ]
  },
  {
   "cell_type": "code",
   "execution_count": null,
   "metadata": {},
   "outputs": [],
   "source": [
    "print(pip_out.columns)\n",
    "print(result_gdf.columns)"
   ]
  },
  {
   "cell_type": "code",
   "execution_count": null,
   "metadata": {},
   "outputs": [],
   "source": [
    "# inspect data for one record\n",
    "filtered=result_gdf[result_gdf['OBJECTID']==784332]\n",
    "ax=pg_tsa.plot( color='orange')\n",
    "filtered.plot(ax=ax, edgecolor='green', facecolor='none', linewidth=2.0)"
   ]
  },
  {
   "cell_type": "code",
   "execution_count": 202,
   "metadata": {},
   "outputs": [],
   "source": [
    "#final merge on objectid \n",
    "pip_out= pip_out.merge(result_gdf, on='OBJECTID', how='outer')\n",
    "pip_out.rename(columns={'wkt_x':'wkt', 'Area of TSA in PIP Boundary(ha)_x':'Area of TSA in PIP Boundary(ha)'}, inplace=True)\n"
   ]
  },
  {
   "cell_type": "code",
   "execution_count": null,
   "metadata": {},
   "outputs": [],
   "source": [
    "pip_out"
   ]
  },
  {
   "cell_type": "code",
   "execution_count": null,
   "metadata": {},
   "outputs": [],
   "source": [
    "pip_out.columns"
   ]
  },
  {
   "cell_type": "code",
   "execution_count": 207,
   "metadata": {},
   "outputs": [],
   "source": [
    "#drop cols \n",
    "pip_cols=['CNSLTN_AREA_NAME', 'OBJECTID', 'Total Area of PIP Boundary (ha)',\n",
    "       'wkt', 'Area of PIP Boundary Overlapping PG TSA (ha)','Area of TSA in PIP Boundary(ha)']\n",
    "\n",
    "pip_out.drop(pip_out.columns.difference(pip_cols), axis= 1, inplace= True)"
   ]
  },
  {
   "cell_type": "code",
   "execution_count": null,
   "metadata": {},
   "outputs": [],
   "source": [
    "pip_out.rename(columns={'OBJECTID_left':'OBJECTID'}, inplace=True)\n",
    "#calculate ha for tsa \n",
    "pg_tsa['area']=pg_tsa.area\n",
    "pg_tsa['ha']=pg_tsa['area']/10000\n",
    "\n",
    "#assign ha to var\n",
    "pg_ha=pg_tsa['ha'].values[0]\n",
    "debug(pg_ha)\n",
    "\n",
    "#calculate percents\n",
    "pip_out['% Overlap with PG TSA']=pip_out['Area of PIP Boundary Overlapping PG TSA (ha)']/pg_ha*100\n",
    "pip_out['% of PG TSA overlap over FN']=pip_out['Area of TSA in PIP Boundary(ha)']/ pip_out['Total Area of PIP Boundary (ha)']*100\n",
    "\n",
    "#drop columns not needed for spreadsheet\n",
    "# drop_cols=['wkt', 'area',]\n",
    "# pip_out.drop(columns=drop_cols, axis=1, inplace=True)\n",
    "\n",
    "\n",
    "print(pip_out.columns)\n",
    "#reorganize columns \n",
    "pip_out=pip_out.reindex(columns=['OBJECTID', 'CNSLTN_AREA_NAME',\n",
    "                                'Total Area of PIP Boundary (ha)','Area of PIP Boundary Overlapping PG TSA (ha)',\n",
    "                                'Area of TSA in PIP Boundary(ha)','% Overlap with PG TSA','% of PG TSA overlap over FN'])"
   ]
  },
  {
   "cell_type": "code",
   "execution_count": 210,
   "metadata": {},
   "outputs": [],
   "source": [
    "#export df with text at the top \n",
    "\n",
    "outpath = r'/deliverables/PG_TSA_FN_Territory_Overlaps.xlsx'\n",
    "header_txt='CONFIDENTIAL, FOR INTERNAL USE ONLY'\n",
    "with pd.ExcelWriter(outpath, engine='xlsxwriter') as writer:\n",
    "    pip_out.to_excel(writer, sheet_name='Overlaps', header=True, index=False, startrow=2)\n",
    "    \n",
    "    workbook = writer.book\n",
    "    worksheet = writer.sheets['Overlaps']\n",
    "    \n",
    "    header_format = workbook.add_format({\n",
    "        'bold': True,\n",
    "        'font_color': 'red',\n",
    "        'font_size': 24\n",
    "    })\n",
    "    \n",
    "    worksheet.write('A1', header_txt, header_format)\n"
   ]
  },
  {
   "cell_type": "markdown",
   "metadata": {},
   "source": [
    "# Area with CSFN and WMFN removed "
   ]
  },
  {
   "cell_type": "code",
   "execution_count": null,
   "metadata": {},
   "outputs": [],
   "source": [
    "subset_pip.columns\n",
    "# subset_pip.plot()\n",
    "print(len(subset_pip))"
   ]
  },
  {
   "cell_type": "code",
   "execution_count": 218,
   "metadata": {},
   "outputs": [],
   "source": [
    "# #use sjoin to return subset of pip_in with only boundaries that intersect with TSA\n",
    "# subset_pip= gpd.sjoin(pip_in, pg_tsa, how='inner', predicate='intersects')\n",
    "# subset_pip.rename(columns={'OBJECTID_left':'OBJECTID'}, inplace=True)\n",
    "#remove WMFN and CSFN from all pip layers and calculate new areas \n",
    "pip_remove=gpd.overlay(subset_pip,joined, how='difference')\n",
    "\n",
    "pip_remove['area']=pip_remove.area\n",
    "pip_remove['Total Area of PIP Boundary with WMFN and CSFN Removed']=pip_remove['area']/10000\n",
    "\n",
    "\n",
    "\n",
    "#remove WMFN from pg_tas\n",
    "tsa_remove=gpd.overlay(pg_tsa,joined, how='difference')"
   ]
  },
  {
   "cell_type": "code",
   "execution_count": null,
   "metadata": {},
   "outputs": [],
   "source": [
    "ax=pg_tsa.plot()\n",
    "tsa_remove.plot(ax=ax,color='red')\n",
    "# joined.plot(ax=ax, color='yellow')\n",
    "pip_remove.plot(color='pink')"
   ]
  },
  {
   "cell_type": "code",
   "execution_count": null,
   "metadata": {},
   "outputs": [],
   "source": [
    "print(pip_remove.columns)"
   ]
  },
  {
   "cell_type": "code",
   "execution_count": 223,
   "metadata": {},
   "outputs": [],
   "source": [
    "\n",
    "#sjoin to new tsa shape \n",
    "subset_pip= gpd.sjoin(pip_remove, tsa_remove, how='inner', predicate='intersects')\n",
    "subset_pip.rename(columns={'OBJECTID_left':'OBJECTID'}, inplace=True)\n",
    "\n",
    "#clip new pip to new tsa shape \n",
    "pip_remove_clip=gpd.clip(subset_pip, tsa_remove,keep_geom_type=False)\n",
    "\n",
    "pip_remove_clip['area']=pip_remove_clip.area\n",
    "pip_remove_clip['Area of PIP Boundary Overlapping PG TSA (ha) (with WMFN and CSFN Removed)']=pip_remove_clip['area']/10000\n"
   ]
  },
  {
   "cell_type": "code",
   "execution_count": null,
   "metadata": {},
   "outputs": [],
   "source": [
    "print(len(pip_remove_clip))\n",
    "print(pip_remove_clip.columns)"
   ]
  },
  {
   "cell_type": "code",
   "execution_count": 233,
   "metadata": {},
   "outputs": [],
   "source": [
    "#drop columns \n",
    "pip_cols=['OBJECTID','CNSLTN_AREA_NAME','Total Area of PIP Boundary (ha)',\n",
    "            'Total Area of PIP Boundary with WMFN and CSFN Removed',\n",
    "            'Area of PIP Boundary Overlapping PG TSA (ha) (with WMFN and CSFN Removed)']\n",
    "pip_remove_clip.drop(pip_remove_clip.columns.difference(pip_cols), axis= 1, inplace= True)"
   ]
  },
  {
   "cell_type": "code",
   "execution_count": null,
   "metadata": {},
   "outputs": [],
   "source": [
    "pip_remove_clip.columns"
   ]
  },
  {
   "cell_type": "code",
   "execution_count": null,
   "metadata": {},
   "outputs": [],
   "source": [
    "\n",
    "tsa_remove['area']=tsa_remove.area\n",
    "tsa_remove['ha']=tsa_remove['area']/10000\n",
    "\n",
    "#assign ha to var\n",
    "tsa_remove_ha=tsa_remove['ha'].values[0]\n",
    "debug(tsa_remove)\n",
    "\n",
    "#calculate percents\n",
    "pip_remove_clip['% Overlap with PG TSA(without WMFN & CSFN)']=pip_remove_clip['Area of PIP Boundary Overlapping PG TSA (ha) (with WMFN and CSFN Removed)']/tsa_remove_ha*100\n",
    "\n",
    "pip_remove_clip['% of PG TSA overlap over FN']=pip_remove_clip['Area of PIP Boundary Overlapping PG TSA (ha) (with WMFN and CSFN Removed)']/ pip_remove_clip['Total Area of PIP Boundary (ha)']*100\n",
    "\n",
    "#drop columns not needed for spreadsheet\n",
    "# drop_cols=['wkt', 'area',]\n",
    "pip_remove_clip.drop(columns='OBJECTID', inplace=True)\n",
    "pip_remove_clip=pip_remove_clip.reindex(columns=['OBJECTID','CNSLTN_AREA_NAME', 'Total Area of PIP Boundary (ha)',\n",
    "       'Total Area of PIP Boundary with WMFN and CSFN Removed',\n",
    "       'Area of PIP Boundary Overlapping PG TSA (ha) (with WMFN and CSFN Removed)',\n",
    "       '% Overlap with PG TSA(without WMFN & CSFN)',\n",
    "       '% of PG TSA overlap over FN'])"
   ]
  },
  {
   "cell_type": "code",
   "execution_count": null,
   "metadata": {},
   "outputs": [],
   "source": [
    "pip_remove_clip.columns"
   ]
  },
  {
   "cell_type": "code",
   "execution_count": 243,
   "metadata": {},
   "outputs": [],
   "source": [
    "outpath = r'/deliverables/PG_TSA_FN_Territory_Overlaps_Without_WMFN_CSFN.xlsx'\n",
    "header_txt='CONFIDENTIAL, FOR INTERNAL USE ONLY'\n",
    "with pd.ExcelWriter(outpath, engine='xlsxwriter') as writer:\n",
    "    pip_remove_clip.to_excel(writer, sheet_name='Overlaps', header=True, index=False, startrow=2)\n",
    "    \n",
    "    workbook = writer.book\n",
    "    worksheet = writer.sheets['Overlaps']\n",
    "    \n",
    "    header_format = workbook.add_format({\n",
    "        'bold': True,\n",
    "        'font_color': 'red',\n",
    "        'font_size': 24\n",
    "    })\n",
    "    \n",
    "    worksheet.write('A1', header_txt, header_format)\n"
   ]
  },
  {
   "cell_type": "code",
   "execution_count": null,
   "metadata": {},
   "outputs": [],
   "source": []
  }
 ],
 "metadata": {
  "kernelspec": {
   "display_name": "stac_tools",
   "language": "python",
   "name": "python3"
  },
  "language_info": {
   "codemirror_mode": {
    "name": "ipython",
    "version": 3
   },
   "file_extension": ".py",
   "mimetype": "text/x-python",
   "name": "python",
   "nbconvert_exporter": "python",
   "pygments_lexer": "ipython3",
   "version": "3.11.7"
  }
 },
 "nbformat": 4,
 "nbformat_minor": 2
}
