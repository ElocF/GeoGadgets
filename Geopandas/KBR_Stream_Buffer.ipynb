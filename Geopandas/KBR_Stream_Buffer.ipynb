{
 "cells": [
  {
   "cell_type": "markdown",
   "metadata": {},
   "source": [
    "\n",
    "Author: CFOLKERS <br>\n",
    "Ministry, Division, Branch: WLRS, GEOBC, Geospatial Services<br>\n",
    "Created Date: 2024/05/21 <br>\n",
    "Updated Date: \n",
    "Description: quick script to create a buffered riparian dataset for KB CE <br>\n"
   ]
  },
  {
   "cell_type": "code",
   "execution_count": 1,
   "metadata": {},
   "outputs": [],
   "source": [
    "import os\n",
    "from getpass import getpass\n",
    "import pandas\n",
    "import geopandas as gpd\n",
    "import logging\n",
    "from bcgw2gdf import bcgw2gdf\n",
    "#set up logging \n",
    "logging.basicConfig(level=logging.DEBUG)\n",
    "debug=logging.debug\n",
    "info=logging.info\n",
    "warning=logging.warning\n",
    "error=logging.error"
   ]
  },
  {
   "cell_type": "code",
   "execution_count": null,
   "metadata": {},
   "outputs": [],
   "source": [
    "# local data\n",
    "ev_boundary=r'boundaries/Misc_Boundaries.gdb'\n",
    "ce_riparian=r\"04_Final_Products/Final_Products_2015/RWCT/RWCT.gdb\"\n",
    "\n",
    "bcgw2gdf=bcgw2gdf()"
   ]
  },
  {
   "cell_type": "code",
   "execution_count": 6,
   "metadata": {},
   "outputs": [
    {
     "name": "stderr",
     "output_type": "stream",
     "text": [
      "DEBUG:root:oracle engine created\n"
     ]
    }
   ],
   "source": [
    "bcgw2gdf.bcgw_connect()"
   ]
  },
  {
   "cell_type": "code",
   "execution_count": 11,
   "metadata": {},
   "outputs": [
    {
     "name": "stderr",
     "output_type": "stream",
     "text": [
      "INFO:root:spatial query returned as GeoDataFrame\n"
     ]
    }
   ],
   "source": [
    "#query for layer in bounding box\n",
    "q = \"\"\"select * from WHSE_BASEMAPPING.FWA_LAKES_POLY where\n",
    "SDO_ANYINTERACT (GEOMETRY,\n",
    "\tSDO_GEOMETRY(2003, 3005, NULL,\n",
    "\t\tSDO_ELEM_INFO_ARRAY(1,1003,3),\n",
    "\t\tSDO_ORDINATE_ARRAY(1671769,518070,1914369,682898) \n",
    "\t)\n",
    ") = 'TRUE'\"\"\"\n",
    "lakes = bcgw2gdf.get_spatial_table(q)"
   ]
  },
  {
   "cell_type": "code",
   "execution_count": 25,
   "metadata": {},
   "outputs": [
    {
     "name": "stderr",
     "output_type": "stream",
     "text": [
      "INFO:root:spatial query returned as GeoDataFrame\n"
     ]
    }
   ],
   "source": [
    "q=\"\"\"select * from WHSE_BASEMAPPING.FWA_STREAM_NETWORKS_SP where\n",
    "SDO_ANYINTERACT (GEOMETRY,\n",
    "\tSDO_GEOMETRY(2003, 3005, NULL,\n",
    "\t\tSDO_ELEM_INFO_ARRAY(1,1003,3),\n",
    "\t\tSDO_ORDINATE_ARRAY(1671769,518070,1914369,682898) \n",
    "\t)\n",
    ") = 'TRUE'\n",
    "\"\"\"\n",
    "stream=bcgw2gdf.get_spatial_table(q)"
   ]
  },
  {
   "cell_type": "code",
   "execution_count": 33,
   "metadata": {},
   "outputs": [
    {
     "name": "stderr",
     "output_type": "stream",
     "text": [
      "INFO:root:spatial query returned as GeoDataFrame\n"
     ]
    }
   ],
   "source": [
    "q=\"\"\"select * from WHSE_BASEMAPPING.FWA_WETLANDS_POLY where\n",
    "SDO_ANYINTERACT (GEOMETRY,\n",
    "\tSDO_GEOMETRY(2003, 3005, NULL,\n",
    "\t\tSDO_ELEM_INFO_ARRAY(1,1003,3),\n",
    "\t\tSDO_ORDINATE_ARRAY(1671769,518070,1914369,682898) \n",
    "\t)\n",
    ") = 'TRUE'\n",
    "\"\"\"\n",
    "wetlands=bcgw2gdf.get_spatial_table(q)"
   ]
  },
  {
   "cell_type": "code",
   "execution_count": null,
   "metadata": {},
   "outputs": [],
   "source": [
    "#load up Elk Valley Boundary \n",
    "ev=gpd.read_file(filename=ev_boundary, layer='Elk_Valley_Study_Area_2015')\n",
    "#load up CE EV riparian layer\n",
    "ev_rip=gpd.read_file(filename=ce_riparian,layer='riparian_area_lidar')\n",
    "#make sure crs is 3005 and rename ev_rip geo col to wkt so it can be concated with oracle gdf\n",
    "ev_rip = ev_rip.to_crs(3005)\n",
    "ev_rip.rename(columns={'geometry':'wkt'}, inplace=True)"
   ]
  },
  {
   "cell_type": "code",
   "execution_count": null,
   "metadata": {},
   "outputs": [],
   "source": [
    "#clip all layers from oracle to EV boundary\n",
    "ev_lake= gpd.clip(lakes,ev)\n",
    "ev_str= gpd.clip(stream,ev)\n",
    "wetlands=gpd.clip(wetlands,ev)"
   ]
  },
  {
   "cell_type": "code",
   "execution_count": 90,
   "metadata": {},
   "outputs": [],
   "source": [
    "#union polygons and lines\n",
    "poly_union=gpd.GeoDataFrame(pandas.concat([ev_lake,wetlands]))\n",
    "line_union=gpd.GeoDataFrame(pandas.concat([ev_str,ev_rip]))\n",
    "#drop duplicate column \n",
    "line_union.drop(columns='SE_ANNO_CAD_DATA', inplace=True)\n"
   ]
  },
  {
   "cell_type": "code",
   "execution_count": 91,
   "metadata": {},
   "outputs": [],
   "source": [
    "#buffer Polygons and lines \n",
    "poly_union['wkt']=poly_union.geometry.buffer(30)\n",
    "line_union['wkt']=line_union.geometry.buffer(30)"
   ]
  },
  {
   "cell_type": "code",
   "execution_count": 96,
   "metadata": {},
   "outputs": [],
   "source": [
    "#concat buffered gdfs\n",
    "riparian_buffer=gpd.GeoDataFrame(pandas.concat([line_union,poly_union]))\n",
    "#dissolve polygons\n",
    "riparian_dissolve=riparian_buffer.dissolve()"
   ]
  },
  {
   "cell_type": "code",
   "execution_count": null,
   "metadata": {},
   "outputs": [],
   "source": [
    "#plot for fun\n",
    "ax = riparian_dissolve.plot(color=\"palegreen\", edgecolor=\"palegreen\", figsize=(20, 10))\n"
   ]
  },
  {
   "cell_type": "code",
   "execution_count": null,
   "metadata": {},
   "outputs": [],
   "source": [
    "#export data\n",
    "file_path = 'path/to/your/geodatabase.gdb'\n",
    "layer_name = 'your_layer_name'\n",
    "\n",
    "# lakes.to_file(file_path, layer=layer_name, driver='FileGDB')\n",
    "lakes.to_parquet(os.path.join(file_path, layer_name))"
   ]
  }
 ],
 "metadata": {
  "kernelspec": {
   "display_name": "stac_tools",
   "language": "python",
   "name": "python3"
  },
  "language_info": {
   "codemirror_mode": {
    "name": "ipython",
    "version": 3
   },
   "file_extension": ".py",
   "mimetype": "text/x-python",
   "name": "python",
   "nbconvert_exporter": "python",
   "pygments_lexer": "ipython3",
   "version": "3.11.7"
  }
 },
 "nbformat": 4,
 "nbformat_minor": 2
}
