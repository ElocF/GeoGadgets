{
 "cells": [
  {
   "cell_type": "code",
   "execution_count": 1,
   "metadata": {},
   "outputs": [],
   "source": [
    "# +-------------------------------------------------------------------------------------------------\n",
    "# Author: CFolkers\n",
    "# Ministry, Division, Branch: WLRS, GeoBC, Geospatial Services \n",
    "# Created Date: 06/04/24\n",
    "# Updated Date: \n",
    "# Description: check overlaps from local file to those from a bcgw layer\n",
    "# +-------------------------------------------------------------------------------------------------"
   ]
  },
  {
   "cell_type": "code",
   "execution_count": 29,
   "metadata": {},
   "outputs": [],
   "source": [
    "# Modules\n",
    "# +-------------------------------------------------------------------------------------------------\n",
    "import os\n",
    "import geopandas\n",
    "import pandas\n",
    "import oracledb\n",
    "from sqlalchemy import create_engine\n",
    "from getpass import getpass\n",
    "from shapely import wkb\n",
    "import openpyxl\n"
   ]
  },
  {
   "cell_type": "code",
   "execution_count": 30,
   "metadata": {},
   "outputs": [],
   "source": [
    "# BCGW\n",
    "# +-------------------------------------------------------------------------------------------------\n",
    "user_nm= input(\"Enter BCGW user name: \")\n",
    "bcgw_pass= getpass(prompt=\"Enter BCGW password: \")\n",
    "host_nm= input(\"Enter BCGW host name: \")\n",
    "service_nm= input (\"enter BCGW Service name: \")\n",
    "\n",
    "conn=oracledb.connect(user=user_nm, password= bcgw_pass, host=host_nm, port=1521, service_name=service_nm)\n",
    "engine= create_engine('oracle+oracledb://', creator=lambda: conn)"
   ]
  },
  {
   "cell_type": "code",
   "execution_count": 31,
   "metadata": {},
   "outputs": [],
   "source": [
    "# get layers function\n",
    "# +-------------------------------------------------------------------------------------------------\n",
    "def get_bcgw_layer(sql_query, oracle_conn, geo):\n",
    "    geo_df=pandas.read_sql_query(sql_query, oracle_conn)\n",
    "    print('got query from oracle')\n",
    "    gdf= geopandas.read_postgis(sql_query,oracle_conn, geo )\n",
    "    print('gdf returned')\n",
    "    return gdf"
   ]
  },
  {
   "cell_type": "code",
   "execution_count": 32,
   "metadata": {},
   "outputs": [
    {
     "name": "stdout",
     "output_type": "stream",
     "text": [
      "got query from oracle\n",
      "gdf returned\n"
     ]
    }
   ],
   "source": [
    "# get pip layer\n",
    "# +-------------------------------------------------------------------------------------------------\n",
    "query= \"\"\"SELECT sdo_util.to_wkbgeometry(SHAPE) AS wkb_geometry, t.* FROM WHSE_ADMIN_BOUNDARIES.PIP_CONSULTATION_AREAS_SP t \"\"\"\n",
    "pip=get_bcgw_layer(query, engine, 'wkb_geometry')\n",
    "#set CRS\n",
    "pip = pip.set_crs(3005, allow_override=True)\n",
    "# print(pip.head())"
   ]
  },
  {
   "cell_type": "code",
   "execution_count": 40,
   "metadata": {},
   "outputs": [
    {
     "name": "stdout",
     "output_type": "stream",
     "text": [
      "path exists\n"
     ]
    }
   ],
   "source": [
    "# get aquatic layer\n",
    "# +-------------------------------------------------------------------------------------------------\n",
    "\n",
    "local_shape=\"Protected_Areas_18Jan2024.shp\"\n",
    "\n",
    "if os.path.exists(r\"/Ingenika_Chuyaza_Corridor shapes\"):\n",
    "    print('path exists')\n",
    "    aquatic_hab=geopandas.read_file(local_shape)\n",
    "    # print(aquatic_hab.head())\n",
    "else:\n",
    "    print('you dont see me')\n"
   ]
  },
  {
   "cell_type": "code",
   "execution_count": null,
   "metadata": {},
   "outputs": [],
   "source": [
    "# intersect hab and PIP and group by\n",
    "# +-------------------------------------------------------------------------------------------------\n",
    "habitat_intersect= geopandas.sjoin(aquatic_hab, pip, how='inner')\n",
    "# habitat_intersect= geopandas.overlay(aquatic_hab, pip,how='intersection')\n",
    "habitat_PIP = habitat_intersect.groupby('Name')['cnsltn_area_name'].apply(list).reset_index()\n",
    "print(habitat_PIP)"
   ]
  },
  {
   "cell_type": "code",
   "execution_count": null,
   "metadata": {},
   "outputs": [],
   "source": [
    "max_length = max(habitat_PIP['cnsltn_area_name'].apply(len))\n",
    "print(max_length)"
   ]
  },
  {
   "cell_type": "code",
   "execution_count": 44,
   "metadata": {},
   "outputs": [],
   "source": [
    "for i in range(max_length):\n",
    "    habitat_PIP[f'cnsltn_area_name_{i+1}'] = habitat_PIP['cnsltn_area_name'].apply(lambda x: x[i] if i < len(x) else None)"
   ]
  },
  {
   "cell_type": "code",
   "execution_count": 45,
   "metadata": {},
   "outputs": [],
   "source": [
    "habitat_PIP.drop('cnsltn_area_name', axis=1, inplace=True)"
   ]
  },
  {
   "cell_type": "code",
   "execution_count": 46,
   "metadata": {},
   "outputs": [],
   "source": [
    "# to excel\n",
    "# +-------------------------------------------------------------------------------------------------\n",
    "out_path=r\"/Deliverables/Wədzih Yinè’_Overlaps.xlsx\"\n",
    "habitat_PIP.to_excel(out_path)"
   ]
  }
 ],
 "metadata": {
  "kernelspec": {
   "display_name": "stac_tools",
   "language": "python",
   "name": "python3"
  },
  "language_info": {
   "codemirror_mode": {
    "name": "ipython",
    "version": 3
   },
   "file_extension": ".py",
   "mimetype": "text/x-python",
   "name": "python",
   "nbconvert_exporter": "python",
   "pygments_lexer": "ipython3",
   "version": "3.11.7"
  }
 },
 "nbformat": 4,
 "nbformat_minor": 2
}
